{
 "cells": [
  {
   "cell_type": "markdown",
   "metadata": {},
   "source": [
    "# Capstone Project - The battle of the flavours (Week 4 Part 1)\n",
    "### Applied Data Science Capstone by IBM/Coursera\n",
    "### Problem description business case."
   ]
  },
  {
   "cell_type": "markdown",
   "metadata": {},
   "source": [
    "## Table of contents (Week 4 Part 1)\n",
    "* **[Introduction: Business Problem](#introduction)**"
   ]
  },
  {
   "cell_type": "markdown",
   "metadata": {},
   "source": [
    "## Introduction: Business Case <a name=\"introduction\"></a>"
   ]
  },
  {
   "cell_type": "markdown",
   "metadata": {},
   "source": [
    "In this project we want to idenfify the best location to open a shop where it would be sold traditional bread and artisan beer products in Madrid downtown. Recently many people turned back their taste preferences to these products looking for healthier food and authentic flavours which have been put aside by the industrialized food companies.\n",
    "\n",
    "This kind of shops have the favour of the public, specially those people with ages around between the thirties to fourties.\n",
    "\n",
    "The shop will be something different as it targets to sell two highly valuable products for the Spanish population.\n",
    "\n",
    "We will use data got from the different Madrid downtown districts **to find the most suitable location for the shop**, based on the similar shops around a distance of 500m, the ages distribution of the living population in those districts, **targeting people between 25 to 50 years old**.\n",
    "\n",
    "Also **the price per square meter** from the different above selected districts, looking for the cheapest one to open the shop as the final criteria to select a place."
   ]
  },
  {
   "cell_type": "code",
   "execution_count": null,
   "metadata": {},
   "outputs": [],
   "source": []
  }
 ],
 "metadata": {
  "kernelspec": {
   "display_name": "Python",
   "language": "python",
   "name": "conda-env-python-py"
  },
  "language_info": {
   "codemirror_mode": {
    "name": "ipython",
    "version": 3
   },
   "file_extension": ".py",
   "mimetype": "text/x-python",
   "name": "python",
   "nbconvert_exporter": "python",
   "pygments_lexer": "ipython3",
   "version": "3.6.7"
  }
 },
 "nbformat": 4,
 "nbformat_minor": 4
}
