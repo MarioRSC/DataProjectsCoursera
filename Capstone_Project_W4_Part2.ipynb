{
 "cells": [
  {
   "cell_type": "markdown",
   "metadata": {},
   "source": [
    "# Capstone Project - The battle of the flavours (Week 4 Part 2)\n",
    "### Applied Data Science Capstone by IBM/Coursera\n",
    "### Background data"
   ]
  },
  {
   "cell_type": "markdown",
   "metadata": {},
   "source": [
    "## Table of contents (Week 4 Part 2)\n",
    "* **[Data](#data)**"
   ]
  },
  {
   "cell_type": "markdown",
   "metadata": {},
   "source": [
    "Based on definition of our problem, factors that will influence our decision are:\n",
    "\n",
    "* Number of existing bakeries and breweries in the neighborhood.\n",
    "* Distance to bakeries and breweries s in the neighborhood, if any.\n",
    "* Age distribution in the districts\n",
    "* Price in euros per square meter of the houses or shops in the districts\n",
    "\n",
    "Following data sources will be needed to extract/generate the required information:\n",
    "* Centers of districts will be generated algorithmically and approximate addresses of centers of those areas    will be obtained using **Google Maps API reverse geocoding**\n",
    "* Number of bakeries, breweries ans similar venues in every neighborhood will be obtained using **Foursquare API**\n",
    "* Coordinate of Madrid center will be obtained using **Google Maps API geocoding** of well known Madrid location (Puerta del Sol).\n",
    "* Housing prices and demographic information from Madrid districts will be got from Madrid´s city council web page:\n",
    "\n",
    "https://www.madrid.es/portales/munimadrid/es/Inicio/El-Ayuntamiento/Estadistica/Areas-de-informacion-estadistica/Areas-de-informacion-estadistica/?vgnextfmt=default&vgnextoid=9023c9fa0b23a210VgnVCM2000000c205a0aRCRD&vgnextchannel=b65ef78526674210VgnVCM1000000b205a0aRCRD\n",
    "\n"
   ]
  },
  {
   "cell_type": "code",
   "execution_count": null,
   "metadata": {},
   "outputs": [],
   "source": []
  }
 ],
 "metadata": {
  "kernelspec": {
   "display_name": "Python",
   "language": "python",
   "name": "conda-env-python-py"
  },
  "language_info": {
   "codemirror_mode": {
    "name": "ipython",
    "version": 3
   },
   "file_extension": ".py",
   "mimetype": "text/x-python",
   "name": "python",
   "nbconvert_exporter": "python",
   "pygments_lexer": "ipython3",
   "version": "3.6.7"
  }
 },
 "nbformat": 4,
 "nbformat_minor": 4
}
